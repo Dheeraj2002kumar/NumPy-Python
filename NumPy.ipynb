{
 "cells": [
  {
   "cell_type": "markdown",
   "id": "acf18713",
   "metadata": {},
   "source": [
    "## What is numpy?\n",
    "\n",
    "- Fundamental package for scientific computing in python\n",
    "- Linear algebra\n",
    "- Array manipulation\n",
    "- Compiled C"
   ]
  },
  {
   "cell_type": "code",
   "execution_count": 1,
   "id": "0d109fde",
   "metadata": {},
   "outputs": [
    {
     "name": "stdout",
     "output_type": "stream",
     "text": [
      "Requirement already satisfied: numpy in c:\\users\\hp\\anaconda3\\lib\\site-packages (1.24.3)\n"
     ]
    }
   ],
   "source": [
    "# install Numpy\n",
    "!pip install numpy\n",
    "\n"
   ]
  },
  {
   "cell_type": "code",
   "execution_count": 3,
   "id": "a9c8423a",
   "metadata": {},
   "outputs": [
    {
     "name": "stdout",
     "output_type": "stream",
     "text": [
      "[2, 4, 6]\n"
     ]
    }
   ],
   "source": [
    "lista = [1, 2, 3]\n",
    "listb = [1, 2, 3]\n",
    "listc = []\n",
    "\n",
    "for aval, bval in zip(lista, listb):\n",
    "    listc.append(aval + bval)\n",
    "\n",
    "print(listc)\n"
   ]
  },
  {
   "cell_type": "code",
   "execution_count": 9,
   "id": "c0282242",
   "metadata": {},
   "outputs": [
    {
     "name": "stdout",
     "output_type": "stream",
     "text": [
      "Array 'a':\n",
      "[[1 2 3]]\n",
      "\n",
      "Array 'b':\n",
      "[[1 2 3]]\n",
      "Array a + b [[2 4 6]]\n"
     ]
    }
   ],
   "source": [
    "import numpy as np\n",
    "\n",
    "a = np.array([[1, 2, 3]])\n",
    "b = np.array([[1, 2, 3]])\n",
    "\n",
    "print(\"Array 'a':\")\n",
    "print(a)\n",
    "print(\"\\nArray 'b':\")\n",
    "print(b)\n",
    "\n",
    "print(\"Array a + b\", a+b)"
   ]
  },
  {
   "cell_type": "code",
   "execution_count": 11,
   "id": "8516a07a",
   "metadata": {},
   "outputs": [
    {
     "name": "stdout",
     "output_type": "stream",
     "text": [
      "[[2 4 6]\n",
      " [2 4 6]]\n"
     ]
    }
   ],
   "source": [
    "a = np.array([\n",
    "    [1, 2, 3],\n",
    "    [1, 2, 3]\n",
    "])\n",
    "\n",
    "b = np.array([\n",
    "    [1, 2, 3],\n",
    "    [1, 2, 3]\n",
    "])\n",
    "\n",
    "c = a+b\n",
    "print(c)"
   ]
  },
  {
   "cell_type": "code",
   "execution_count": null,
   "id": "3b113314-5db3-41aa-9bb6-8f509fca2e47",
   "metadata": {},
   "outputs": [],
   "source": []
  }
 ],
 "metadata": {
  "kernelspec": {
   "display_name": "Python 3 (ipykernel)",
   "language": "python",
   "name": "python3"
  },
  "language_info": {
   "codemirror_mode": {
    "name": "ipython",
    "version": 3
   },
   "file_extension": ".py",
   "mimetype": "text/x-python",
   "name": "python",
   "nbconvert_exporter": "python",
   "pygments_lexer": "ipython3",
   "version": "3.11.5"
  }
 },
 "nbformat": 4,
 "nbformat_minor": 5
}
